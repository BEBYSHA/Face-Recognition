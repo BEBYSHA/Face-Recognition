{
 "cells": [
  {
   "cell_type": "code",
   "execution_count": 47,
   "metadata": {},
   "outputs": [],
   "source": [
    "import os\n",
    "import cv2\n",
    "import numpy as np\n",
    "from sklearn.model_selection import train_test_split\n",
    "from sklearn.svm import SVC\n",
    "from sklearn.metrics import accuracy_score\n",
    "from skimage.feature import local_binary_pattern"
   ]
  },
  {
   "cell_type": "code",
   "execution_count": 48,
   "metadata": {},
   "outputs": [],
   "source": [
    "RADIUS = 1\n",
    "N_POINTS = 8 * RADIUS\n",
    "METHOD = \"uniform\""
   ]
  },
  {
   "cell_type": "code",
   "execution_count": 49,
   "metadata": {},
   "outputs": [],
   "source": [
    "def extract_lbp_features(image):\n",
    "    lbp = local_binary_pattern(image, N_POINTS, RADIUS, METHOD)\n",
    "    hist, _ = np.histogram(lbp.ravel(), bins=np.arange(0, N_POINTS + 3), range=(0, N_POINTS + 2))\n",
    "    hist = hist.astype(\"float\")\n",
    "    hist /= hist.sum()  # Normalisasi\n",
    "    return hist\n"
   ]
  },
  {
   "cell_type": "code",
   "execution_count": 50,
   "metadata": {},
   "outputs": [],
   "source": [
    "def detect_faces(image, face_cascade):\n",
    "    gray = cv2.cvtColor(image, cv2.COLOR_BGR2GRAY)\n",
    "    faces = face_cascade.detectMultiScale(gray, scaleFactor=1.1, minNeighbors=5, minSize=(30, 30))\n",
    "    return faces, gray"
   ]
  },
  {
   "cell_type": "code",
   "execution_count": 51,
   "metadata": {},
   "outputs": [],
   "source": [
    "def load_dataset(dataset_path, face_cascade):\n",
    "    data = []\n",
    "    labels = []\n",
    "\n",
    "    for person in os.listdir(dataset_path):\n",
    "        person_path = os.path.join(dataset_path, person)\n",
    "        if os.path.isdir(person_path):\n",
    "            for img_file in os.listdir(person_path):\n",
    "                img_path = os.path.join(person_path, img_file)\n",
    "                image = cv2.imread(img_path)\n",
    "                if image is None:\n",
    "                    print(f\"Failed to read image: {img_path}\")\n",
    "                    continue\n",
    "\n",
    "                faces, gray = detect_faces(image, face_cascade)\n",
    "                for (x, y, w, h) in faces:\n",
    "                    face = gray[y:y+h, x:x+w]\n",
    "                    face = cv2.resize(face, (128, 128))  # Resize untuk konsistensi\n",
    "                    features = extract_lbp_features(face)\n",
    "                    data.append(features)\n",
    "                    labels.append(person)\n",
    "    return data, labels"
   ]
  },
  {
   "cell_type": "code",
   "execution_count": 52,
   "metadata": {},
   "outputs": [],
   "source": [
    "def train_model(data, labels):\n",
    "    X_train, X_test, y_train, y_test = train_test_split(data, labels, test_size=0.2, random_state=42)\n",
    "    model = SVC(kernel=\"linear\", probability=True)\n",
    "    model.fit(X_train, y_train)\n",
    "    y_pred = model.predict(X_test)\n",
    "    print(f\"Accuracy: {accuracy_score(y_test, y_pred) * 100:.2f}%\")\n",
    "    return model"
   ]
  },
  {
   "cell_type": "code",
   "execution_count": 53,
   "metadata": {},
   "outputs": [],
   "source": [
    "# Tampilkan gambar dengan ukuran yang disesuaikan\n",
    "def show_resized_image(window_name, image, width=200):\n",
    "    \"\"\"Tampilkan gambar dengan lebar yang disesuaikan.\"\"\"\n",
    "    height, original_width = image.shape[:2]\n",
    "    scaling_factor = width / original_width\n",
    "    new_height = int(height * scaling_factor)\n",
    "    resized_image = cv2.resize(image, (width, new_height))\n",
    "    cv2.imshow(window_name, resized_image)"
   ]
  },
  {
   "cell_type": "code",
   "execution_count": 54,
   "metadata": {},
   "outputs": [
    {
     "name": "stdout",
     "output_type": "stream",
     "text": [
      "Loading dataset...\n",
      "Training model...\n",
      "Accuracy: 100.00%\n",
      "Testing with new image...\n",
      "Predicted: Pak Jokowi\n"
     ]
    }
   ],
   "source": [
    "# Program utama\n",
    "if __name__ == \"__main__\":\n",
    "    # Path ke folder dataset\n",
    "    dataset_path = \"dataset/\"\n",
    "\n",
    "    # Load cascade untuk deteksi wajah\n",
    "    face_cascade = cv2.CascadeClassifier(cv2.data.haarcascades + \"haarcascade_frontalface_default.xml\")\n",
    "\n",
    "    # Load dataset\n",
    "    print(\"Loading dataset...\")\n",
    "    data, labels = load_dataset(dataset_path, face_cascade)\n",
    "\n",
    "    if not data or not labels:\n",
    "        print(\"Dataset is empty or not found. Please check your dataset path and structure.\")\n",
    "        exit()\n",
    "\n",
    "    # Train model\n",
    "    print(\"Training model...\")\n",
    "    model = train_model(data, labels)\n",
    "\n",
    "    # Test dengan gambar baru\n",
    "    test_image_path = \"testimage2.jpeg\"  # Ganti dengan gambar uji\n",
    "    test_image = cv2.imread(test_image_path)\n",
    "    if test_image is None:\n",
    "        print(f\"Failed to read test image: {test_image_path}\")\n",
    "        exit()\n",
    "\n",
    "    print(\"Testing with new image...\")\n",
    "    faces, gray = detect_faces(test_image, face_cascade)\n",
    "    for (x, y, w, h) in faces:\n",
    "        face = gray[y:y+h, x:x+w]\n",
    "        face = cv2.resize(face, (128, 128))\n",
    "        features = extract_lbp_features(face)\n",
    "        prediction = model.predict([features])\n",
    "        print(f\"Predicted: {prediction[0]}\")\n",
    "        cv2.rectangle(test_image, (x, y), (x+w, y+h), (0, 255, 0), 2)\n",
    "        cv2.putText(test_image, prediction[0], (x, y-10), cv2.FONT_HERSHEY_SIMPLEX, 0.9, (0, 255, 0), 2)\n",
    "\n",
    "    # Tampilkan hasil\n",
    "    show_resized_image(\"Result\", test_image, width=500)\n",
    "    cv2.waitKey(0)\n",
    "    cv2.destroyAllWindows()"
   ]
  }
 ],
 "metadata": {
  "kernelspec": {
   "display_name": "Python 3",
   "language": "python",
   "name": "python3"
  },
  "language_info": {
   "codemirror_mode": {
    "name": "ipython",
    "version": 3
   },
   "file_extension": ".py",
   "mimetype": "text/x-python",
   "name": "python",
   "nbconvert_exporter": "python",
   "pygments_lexer": "ipython3",
   "version": "3.12.7"
  }
 },
 "nbformat": 4,
 "nbformat_minor": 2
}
